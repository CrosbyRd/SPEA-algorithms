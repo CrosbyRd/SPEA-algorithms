{
  "nbformat": 4,
  "nbformat_minor": 0,
  "metadata": {
    "colab": {
      "provenance": [],
      "collapsed_sections": [],
      "include_colab_link": true
    },
    "kernelspec": {
      "name": "python3",
      "display_name": "Python 3"
    },
    "language_info": {
      "name": "python"
    }
  },
  "cells": [
    {
      "cell_type": "markdown",
      "metadata": {
        "id": "view-in-github",
        "colab_type": "text"
      },
      "source": [
        "<a href=\"https://colab.research.google.com/github/CrosbyRd/SPEA-algorithms/blob/main/VRPTW_SPEA_2022.ipynb\" target=\"_parent\"><img src=\"https://colab.research.google.com/assets/colab-badge.svg\" alt=\"Open In Colab\"/></a>"
      ]
    },
    {
      "cell_type": "code",
      "metadata": {
        "id": "kmZtOwIsfx5n"
      },
      "source": [
        "pip install paretoset"
      ],
      "execution_count": null,
      "outputs": []
    },
    {
      "cell_type": "code",
      "metadata": {
        "id": "b-rjFMhoxbh_"
      },
      "source": [
        "import random\n",
        "import os\n",
        "import io\n",
        "import math\n",
        "from paretoset import paretoset\n",
        "import pandas as pd\n",
        "import matplotlib.pyplot as plt\n",
        "import seaborn as sns\n",
        "\n",
        "%matplotlib inline"
      ],
      "execution_count": null,
      "outputs": []
    },
    {
      "cell_type": "code",
      "metadata": {
        "id": "iZ-OHiUu4OYh"
      },
      "source": [
        "def calcular_distancia(customer1, customer2):\n",
        "    return math.sqrt((customer1['coord']['x'] - customer2['coord']['x'])**2 + (customer1['coord']['y'] - customer2['coord']['y'])**2)"
      ],
      "execution_count": null,
      "outputs": []
    },
    {
      "cell_type": "code",
      "metadata": {
        "id": "EMHsP_dRxA59"
      },
      "source": [
        "def preprocesamiento(file):\n",
        "    text_file = f'{file}.txt'\n",
        "    data = {}\n",
        "    with io.open(text_file, 'rt', encoding='utf-8', newline='') as file_object:\n",
        "        for line_count, line in enumerate(file_object, start=1):\n",
        "            if line_count in [1, 3, 5]:\n",
        "                pass\n",
        "            elif line_count == 2:\n",
        "                values = line.strip().split()\n",
        "                data['customers'] = int(values[0])\n",
        "            elif line_count == 4:\n",
        "                values = line.strip().split()\n",
        "                data['vehicle_capacity'] = float(values[0])\n",
        "            elif line_count == 6:\n",
        "                values = line.strip().split()\n",
        "                data['origin'] = {\n",
        "                    'coord': {\n",
        "                        'x': float(values[1]),\n",
        "                        'y': float(values[2]),\n",
        "                    },\n",
        "                    'demand': float(values[3]),\n",
        "                    'ready_time': float(values[4]),\n",
        "                    'due_time': float(values[5]),\n",
        "                    'service_time': float(values[6]),\n",
        "                }\n",
        "            else:\n",
        "                values = line.strip().split()\n",
        "                data[f'cust_{values[0]}'] = {\n",
        "                    'coord': {\n",
        "                        'x': float(values[1]),\n",
        "                        'y': float(values[2]),\n",
        "                    },\n",
        "                    'demand': float(values[3]),\n",
        "                    'ready_time': float(values[4]),\n",
        "                    'due_time': float(values[5]),\n",
        "                    'service_time': float(values[6]),\n",
        "                }\n",
        "    customers = ['origin'] + [f'cust_{x}' for x in range(1, 101)]\n",
        "    data['distance_matrix'] = [[calcular_distancia(data[customer1], data[customer2]) for customer1 in customers] for customer2 in customers]\n",
        "    return data"
      ],
      "execution_count": null,
      "outputs": []
    },
    {
      "cell_type": "code",
      "metadata": {
        "id": "cwYX-MKpF45V"
      },
      "source": [
        "def individuoRuta(individuo, instancia):\n",
        "    ruta = []\n",
        "    capacidad = instancia['vehicle_capacity']\n",
        "    tiempo_limite = instancia['origin']['due_time']\n",
        "    for cust_id in individuo:\n",
        "        instancia[f'cust_{cust_id}']['visited'] = 0\n",
        "    while todosVisitados(individuo, instancia) == False:\n",
        "        sub_ruta = []\n",
        "        carga_vehiculo = 0\n",
        "        tiempo_transcurrido = 0\n",
        "        ultimo_cust_id = 0\n",
        "        for cust_id in individuo:\n",
        "            if instancia[f'cust_{cust_id}']['visited'] != 1:\n",
        "                distancia = instancia['distance_matrix'][ultimo_cust_id][cust_id]\n",
        "                demanda = instancia[f'cust_{cust_id}']['demand']\n",
        "                carga_actual = carga_vehiculo + demanda\n",
        "                tiempo_llegada = tiempo_transcurrido + distancia\n",
        "                tiempo_espera = max(instancia[f'cust_{cust_id}']['ready_time'] - tiempo_llegada, 0)\n",
        "                tiempo_servicio = instancia[f'cust_{cust_id}']['service_time']\n",
        "                if carga_actual > capacidad:\n",
        "                    continue\n",
        "                if tiempo_llegada + tiempo_servicio > instancia[f'cust_{cust_id}']['due_time']:\n",
        "                    continue\n",
        "                sub_ruta.append(cust_id)\n",
        "                carga_vehiculo += demanda\n",
        "                tiempo_transcurrido = tiempo_llegada + tiempo_espera + tiempo_servicio\n",
        "                instancia[f'cust_{cust_id}']['visited'] = 1\n",
        "                ultimo_cust_id = cust_id\n",
        "        if sub_ruta != []:\n",
        "                ruta.append(sub_ruta)\n",
        "    return ruta\n",
        "\n",
        "def todosVisitados(individuo, instancia):\n",
        "    count = 0\n",
        "    for cust_id in individuo:\n",
        "        if instancia[f'cust_{cust_id}']['visited'] == 1:\n",
        "            count += 1\n",
        "    return count == len(individuo)"
      ],
      "execution_count": null,
      "outputs": []
    }
  ]
}